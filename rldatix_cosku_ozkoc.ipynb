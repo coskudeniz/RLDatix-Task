{
 "cells": [
  {
   "cell_type": "markdown",
   "id": "e971c391-7e3a-457f-8180-dca2350c5669",
   "metadata": {},
   "source": [
    "# Predictive Modelling - Binary Classification"
   ]
  },
  {
   "cell_type": "code",
   "execution_count": 1,
   "id": "e8688788-41f7-43c3-8c55-7e554ba44e22",
   "metadata": {},
   "outputs": [],
   "source": [
    "import pandas as pd\n",
    "import numpy as np\n",
    "import seaborn as sns\n",
    "from time import perf_counter\n",
    "import matplotlib.pyplot as plt\n",
    "\n",
    "from sklearn.preprocessing import OneHotEncoder, StandardScaler\n",
    "from sklearn.compose import ColumnTransformer\n",
    "from sklearn.pipeline import Pipeline\n",
    "from sklearn.linear_model import LogisticRegression\n",
    "from sklearn.dummy import DummyClassifier\n",
    "from sklearn.model_selection import (\n",
    "    RandomizedSearchCV,\n",
    "    TunedThresholdClassifierCV,\n",
    "    StratifiedKFold,\n",
    "    LearningCurveDisplay,\n",
    "    cross_validate,\n",
    "    train_test_split,\n",
    "    cross_val_predict\n",
    ")\n",
    "from sklearn.metrics import ConfusionMatrixDisplay, f1_score\n",
    "from sklearn.inspection import permutation_importance\n",
    "from scipy.stats import loguniform\n",
    "\n",
    "sns.set(color_codes=True)\n",
    "%matplotlib inline\n",
    "\n",
    "SEED = 1"
   ]
  },
  {
   "cell_type": "code",
   "execution_count": 2,
   "id": "0cd14d39-5c45-44c0-9b70-28995494f275",
   "metadata": {},
   "outputs": [
    {
     "data": {
      "text/html": [
       "<div>\n",
       "<style scoped>\n",
       "    .dataframe tbody tr th:only-of-type {\n",
       "        vertical-align: middle;\n",
       "    }\n",
       "\n",
       "    .dataframe tbody tr th {\n",
       "        vertical-align: top;\n",
       "    }\n",
       "\n",
       "    .dataframe thead th {\n",
       "        text-align: right;\n",
       "    }\n",
       "</style>\n",
       "<table border=\"1\" class=\"dataframe\">\n",
       "  <thead>\n",
       "    <tr style=\"text-align: right;\">\n",
       "      <th></th>\n",
       "      <th>patient_id</th>\n",
       "      <th>age</th>\n",
       "      <th>gender</th>\n",
       "      <th>diagnosis_code</th>\n",
       "      <th>num_previous_admissions</th>\n",
       "      <th>medication_type</th>\n",
       "      <th>length_of_stay</th>\n",
       "      <th>readmitted_30_days</th>\n",
       "      <th>discharge_note</th>\n",
       "    </tr>\n",
       "  </thead>\n",
       "  <tbody>\n",
       "    <tr>\n",
       "      <th>0</th>\n",
       "      <td>1</td>\n",
       "      <td>71</td>\n",
       "      <td>Male</td>\n",
       "      <td>D002</td>\n",
       "      <td>3</td>\n",
       "      <td>Type C</td>\n",
       "      <td>2</td>\n",
       "      <td>0</td>\n",
       "      <td>Good recovery trajectory. Follow-up scan sched...</td>\n",
       "    </tr>\n",
       "    <tr>\n",
       "      <th>1</th>\n",
       "      <td>2</td>\n",
       "      <td>34</td>\n",
       "      <td>Female</td>\n",
       "      <td>D002</td>\n",
       "      <td>1</td>\n",
       "      <td>Type B</td>\n",
       "      <td>3</td>\n",
       "      <td>1</td>\n",
       "      <td>Stable post-surgery. Advised to avoid physical...</td>\n",
       "    </tr>\n",
       "    <tr>\n",
       "      <th>2</th>\n",
       "      <td>3</td>\n",
       "      <td>80</td>\n",
       "      <td>Male</td>\n",
       "      <td>D002</td>\n",
       "      <td>2</td>\n",
       "      <td>Type C</td>\n",
       "      <td>5</td>\n",
       "      <td>1</td>\n",
       "      <td>Symptoms controlled. Monitoring for relapse ad...</td>\n",
       "    </tr>\n",
       "    <tr>\n",
       "      <th>3</th>\n",
       "      <td>4</td>\n",
       "      <td>40</td>\n",
       "      <td>Female</td>\n",
       "      <td>D002</td>\n",
       "      <td>2</td>\n",
       "      <td>Type C</td>\n",
       "      <td>11</td>\n",
       "      <td>0</td>\n",
       "      <td>Stable post-surgery. Advised to avoid physical...</td>\n",
       "    </tr>\n",
       "    <tr>\n",
       "      <th>4</th>\n",
       "      <td>5</td>\n",
       "      <td>43</td>\n",
       "      <td>Female</td>\n",
       "      <td>D001</td>\n",
       "      <td>1</td>\n",
       "      <td>Type C</td>\n",
       "      <td>8</td>\n",
       "      <td>1</td>\n",
       "      <td>Stable post-surgery. Advised to avoid physical...</td>\n",
       "    </tr>\n",
       "  </tbody>\n",
       "</table>\n",
       "</div>"
      ],
      "text/plain": [
       "   patient_id  age  gender diagnosis_code  num_previous_admissions  \\\n",
       "0           1   71    Male           D002                        3   \n",
       "1           2   34  Female           D002                        1   \n",
       "2           3   80    Male           D002                        2   \n",
       "3           4   40  Female           D002                        2   \n",
       "4           5   43  Female           D001                        1   \n",
       "\n",
       "  medication_type  length_of_stay  readmitted_30_days  \\\n",
       "0          Type C               2                   0   \n",
       "1          Type B               3                   1   \n",
       "2          Type C               5                   1   \n",
       "3          Type C              11                   0   \n",
       "4          Type C               8                   1   \n",
       "\n",
       "                                      discharge_note  \n",
       "0  Good recovery trajectory. Follow-up scan sched...  \n",
       "1  Stable post-surgery. Advised to avoid physical...  \n",
       "2  Symptoms controlled. Monitoring for relapse ad...  \n",
       "3  Stable post-surgery. Advised to avoid physical...  \n",
       "4  Stable post-surgery. Advised to avoid physical...  "
      ]
     },
     "execution_count": 2,
     "metadata": {},
     "output_type": "execute_result"
    }
   ],
   "source": [
    "df = pd.read_csv(\"Assignment_Data.csv\")\n",
    "df.head()"
   ]
  },
  {
   "cell_type": "markdown",
   "id": "2af8dfb1-485f-4325-b1da-f193267b690c",
   "metadata": {},
   "source": [
    "## Data Claning and Exploratory Analysis"
   ]
  },
  {
   "cell_type": "code",
   "execution_count": 3,
   "id": "e1e20d04-a53e-4869-920a-4adceea9a373",
   "metadata": {},
   "outputs": [
    {
     "data": {
      "text/plain": [
       "patient_id                 0\n",
       "age                        0\n",
       "gender                     0\n",
       "diagnosis_code             0\n",
       "num_previous_admissions    0\n",
       "medication_type            0\n",
       "length_of_stay             0\n",
       "readmitted_30_days         0\n",
       "discharge_note             0\n",
       "dtype: int64"
      ]
     },
     "execution_count": 3,
     "metadata": {},
     "output_type": "execute_result"
    }
   ],
   "source": [
    "df.isnull().sum()"
   ]
  },
  {
   "cell_type": "markdown",
   "id": "20195a7f-433f-431a-a1f2-b6a497757569",
   "metadata": {},
   "source": [
    "As can be seen above, there are no null values in the dataset."
   ]
  },
  {
   "cell_type": "code",
   "execution_count": 4,
   "id": "021a39c1-85fe-4d54-99f8-79a4bed87082",
   "metadata": {},
   "outputs": [
    {
     "name": "stdout",
     "output_type": "stream",
     "text": [
      "The number of patients is 200\n"
     ]
    }
   ],
   "source": [
    "print(f\"The number of patients is {df.patient_id.nunique()}\")"
   ]
  },
  {
   "cell_type": "markdown",
   "id": "214e44cc-3ed2-4d12-b1ad-662680b0eef8",
   "metadata": {},
   "source": [
    "All the rows have unique patient IDs so there are no duplicated values. There are in total 200 rows in the dataset. "
   ]
  },
  {
   "cell_type": "code",
   "execution_count": 5,
   "id": "7ee556a6-d940-4d41-a2d7-2940f4647e18",
   "metadata": {},
   "outputs": [
    {
     "data": {
      "image/png": "[encoded data removed]",
      "text/plain": [
       "<Figure size 500x500 with 1 Axes>"
      ]
     },
     "metadata": {},
     "output_type": "display_data"
    }
   ],
   "source": [
    "fig, ax = plt.subplots(figsize=(5, 5))\n",
    "sns.countplot(x='readmitted_30_days', data=df, ax=ax)\n",
    "ax.bar_label(ax.containers[0]);"
   ]
  },
  {
   "cell_type": "markdown",
   "id": "8d2c47bd-dbfc-4f47-a07d-743c7c36c24c",
   "metadata": {},
   "source": [
    "The number of patients that are readdmited to the hospital within 30 days is approximately half of the number of patients that are not readmitted. This is not an highly unbalanced dataset but the size of the dataset is very small. "
   ]
  },
  {
   "cell_type": "code",
   "execution_count": 6,
   "id": "fb09be2a-0e43-4e34-a01a-319722b5cb94",
   "metadata": {},
   "outputs": [
    {
     "data": {
      "image/png": "[encoded data removed]",
      "text/plain": [
       "<Figure size 800x600 with 2 Axes>"
      ]
     },
     "metadata": {},
     "output_type": "display_data"
    }
   ],
   "source": [
    "fig, axes = plt.subplots(1, 2, figsize=(8, 6), sharey=True)\n",
    "\n",
    "df[df[\"readmitted_30_days\"] == 0][\"num_previous_admissions\"].plot(kind=\"hist\", ax=axes[0], density=True, bins=np.arange(min(df[\"num_previous_admissions\"]) - 0.5, max(df[\"num_previous_admissions\"]) + 0.5 + 1), label=\"not readmitted\")\n",
    "axes[0].set_title(\"Distribution of num_previous_admissions\", fontsize=10)\n",
    "axes[0].set_ylabel(\"Ratio\", fontsize=10)\n",
    "axes[0].set_xlabel(\"num_previous_admissions\", fontsize=10)\n",
    "axes[0].legend()\n",
    "df[df[\"readmitted_30_days\"] == 1][\"num_previous_admissions\"].plot(kind=\"hist\", ax=axes[1], density=True, bins=np.arange(min(df[\"num_previous_admissions\"]) - 0.5, max(df[\"num_previous_admissions\"]) + 0.5 + 1), label=\"readmitted\")\n",
    "axes[1].set_title(\"Distribution of num_previous_admissions\", fontsize=10)\n",
    "axes[1].set_xlabel(\"num_previous_admissions\", fontsize=10)\n",
    "axes[1].legend()\n",
    "plt.show()"
   ]
  },
  {
   "cell_type": "markdown",
   "id": "f3c2f926-2128-4753-88c5-549f058925a2",
   "metadata": {},
   "source": [
    "When the distributions of the number of previous admissions are studied, it seems that the patiens that were not admitted to the hospital before the current admission are more likley to be readmitted within 30 days."
   ]
  },
  {
   "cell_type": "code",
   "execution_count": 7,
   "id": "e74e7502-aaae-4ea1-a41a-c56dcaae0f9c",
   "metadata": {},
   "outputs": [
    {
     "data": {
      "image/png": "[encoded data removed]",
      "text/plain": [
       "<Figure size 800x600 with 2 Axes>"
      ]
     },
     "metadata": {},
     "output_type": "display_data"
    }
   ],
   "source": [
    "fig, axes = plt.subplots(1, 2, figsize=(8, 6), sharey=True)\n",
    "\n",
    "df[df[\"readmitted_30_days\"] == 0][\"age\"].plot(kind=\"hist\", ax=axes[0], density=True, bins=np.arange(20, 91, 5), label=\"not readmitted\")\n",
    "axes[0].set_title(\"Distribution of ages\", fontsize=10)\n",
    "axes[0].set_ylabel(\"Ratio\", fontsize=10)\n",
    "axes[0].set_xlabel(\"num_previous_admissions\", fontsize=10)\n",
    "axes[0].set_xticks(range(20,91,10))\n",
    "axes[0].legend()\n",
    "df[df[\"readmitted_30_days\"] == 1][\"age\"].plot(kind=\"hist\", ax=axes[1], density=True, bins=np.arange(20, 91, 5), label=\"readmitted\")\n",
    "axes[1].set_title(\"Distribution of ages\", fontsize=10)\n",
    "axes[1].set_xlabel(\"num_previous_admissions\", fontsize=10)\n",
    "axes[1].set_xticks(range(20,91,10))\n",
    "axes[1].legend()\n",
    "plt.show()"
   ]
  },
  {
   "cell_type": "markdown",
   "id": "bb9d77cc-92b5-49c7-a86c-fecae93a6d09",
   "metadata": {},
   "source": [
    "When the two distributions above are studied, it seems like the patients that have ages between 20 and 30 or between 70 and 80 are more like to be readmitted. "
   ]
  },
  {
   "cell_type": "code",
   "execution_count": 8,
   "id": "975a196b-0990-4e7b-a783-e10b6c72175b",
   "metadata": {},
   "outputs": [
    {
     "data": {
      "text/html": [
       "<div>\n",
       "<style scoped>\n",
       "    .dataframe tbody tr th:only-of-type {\n",
       "        vertical-align: middle;\n",
       "    }\n",
       "\n",
       "    .dataframe tbody tr th {\n",
       "        vertical-align: top;\n",
       "    }\n",
       "\n",
       "    .dataframe thead th {\n",
       "        text-align: right;\n",
       "    }\n",
       "</style>\n",
       "<table border=\"1\" class=\"dataframe\">\n",
       "  <thead>\n",
       "    <tr style=\"text-align: right;\">\n",
       "      <th>readmitted_30_days</th>\n",
       "      <th>0</th>\n",
       "      <th>1</th>\n",
       "    </tr>\n",
       "    <tr>\n",
       "      <th>gender</th>\n",
       "      <th></th>\n",
       "      <th></th>\n",
       "    </tr>\n",
       "  </thead>\n",
       "  <tbody>\n",
       "    <tr>\n",
       "      <th>Female</th>\n",
       "      <td>0.691589</td>\n",
       "      <td>0.308411</td>\n",
       "    </tr>\n",
       "    <tr>\n",
       "      <th>Male</th>\n",
       "      <td>0.655914</td>\n",
       "      <td>0.344086</td>\n",
       "    </tr>\n",
       "  </tbody>\n",
       "</table>\n",
       "</div>"
      ],
      "text/plain": [
       "readmitted_30_days         0         1\n",
       "gender                                \n",
       "Female              0.691589  0.308411\n",
       "Male                0.655914  0.344086"
      ]
     },
     "execution_count": 8,
     "metadata": {},
     "output_type": "execute_result"
    }
   ],
   "source": [
    "pd.crosstab(index=df.gender, columns=df.readmitted_30_days, normalize=\"index\")"
   ]
  },
  {
   "cell_type": "markdown",
   "id": "5579ef92-3587-4b0b-b69f-b3e14fae51bc",
   "metadata": {},
   "source": [
    "From the table above, it seems like male readmission rate is higher but the number of sampling size is very low. Chi-square test can be run to see if gender has an effect on readmission. "
   ]
  },
  {
   "cell_type": "code",
   "execution_count": 9,
   "id": "a884c932-dc25-4024-99a0-b23ae959fade",
   "metadata": {},
   "outputs": [
    {
     "data": {
      "text/plain": [
       "array(['D002', 'D001', 'D004', 'D003'], dtype=object)"
      ]
     },
     "execution_count": 9,
     "metadata": {},
     "output_type": "execute_result"
    }
   ],
   "source": [
    "df.diagnosis_code.unique()"
   ]
  },
  {
   "cell_type": "markdown",
   "id": "c2a0eb61-146c-433f-8d47-4f472014eaea",
   "metadata": {},
   "source": [
    "There are 4 types of diagnosis codes as seen above."
   ]
  },
  {
   "cell_type": "code",
   "execution_count": 10,
   "id": "e714ca75-e693-46ab-8a90-0f20e6ec914f",
   "metadata": {},
   "outputs": [
    {
     "data": {
      "text/html": [
       "<div>\n",
       "<style scoped>\n",
       "    .dataframe tbody tr th:only-of-type {\n",
       "        vertical-align: middle;\n",
       "    }\n",
       "\n",
       "    .dataframe tbody tr th {\n",
       "        vertical-align: top;\n",
       "    }\n",
       "\n",
       "    .dataframe thead th {\n",
       "        text-align: right;\n",
       "    }\n",
       "</style>\n",
       "<table border=\"1\" class=\"dataframe\">\n",
       "  <thead>\n",
       "    <tr style=\"text-align: right;\">\n",
       "      <th>readmitted_30_days</th>\n",
       "      <th>0</th>\n",
       "      <th>1</th>\n",
       "    </tr>\n",
       "    <tr>\n",
       "      <th>diagnosis_code</th>\n",
       "      <th></th>\n",
       "      <th></th>\n",
       "    </tr>\n",
       "  </thead>\n",
       "  <tbody>\n",
       "    <tr>\n",
       "      <th>D001</th>\n",
       "      <td>0.660714</td>\n",
       "      <td>0.339286</td>\n",
       "    </tr>\n",
       "    <tr>\n",
       "      <th>D002</th>\n",
       "      <td>0.722222</td>\n",
       "      <td>0.277778</td>\n",
       "    </tr>\n",
       "    <tr>\n",
       "      <th>D003</th>\n",
       "      <td>0.621622</td>\n",
       "      <td>0.378378</td>\n",
       "    </tr>\n",
       "    <tr>\n",
       "      <th>D004</th>\n",
       "      <td>0.679245</td>\n",
       "      <td>0.320755</td>\n",
       "    </tr>\n",
       "  </tbody>\n",
       "</table>\n",
       "</div>"
      ],
      "text/plain": [
       "readmitted_30_days         0         1\n",
       "diagnosis_code                        \n",
       "D001                0.660714  0.339286\n",
       "D002                0.722222  0.277778\n",
       "D003                0.621622  0.378378\n",
       "D004                0.679245  0.320755"
      ]
     },
     "execution_count": 10,
     "metadata": {},
     "output_type": "execute_result"
    }
   ],
   "source": [
    "pd.crosstab(index=df.diagnosis_code, columns=df.readmitted_30_days, normalize=\"index\")"
   ]
  },
  {
   "cell_type": "markdown",
   "id": "56f6c478-1ed3-41c4-a895-017d59d44e3f",
   "metadata": {},
   "source": [
    "It seems like the readmission rate for the diagnosis __D003__ is higher compared to the others."
   ]
  },
  {
   "cell_type": "code",
   "execution_count": 11,
   "id": "68b531e0-9a59-49c1-b34a-fc2a1861db0d",
   "metadata": {},
   "outputs": [
    {
     "data": {
      "text/plain": [
       "array(['Type C', 'Type B', 'Type A'], dtype=object)"
      ]
     },
     "execution_count": 11,
     "metadata": {},
     "output_type": "execute_result"
    }
   ],
   "source": [
    "df.medication_type.unique()"
   ]
  },
  {
   "cell_type": "code",
   "execution_count": 12,
   "id": "664a2559-f936-423e-ad56-1da71a1301ca",
   "metadata": {},
   "outputs": [
    {
     "data": {
      "text/html": [
       "<div>\n",
       "<style scoped>\n",
       "    .dataframe tbody tr th:only-of-type {\n",
       "        vertical-align: middle;\n",
       "    }\n",
       "\n",
       "    .dataframe tbody tr th {\n",
       "        vertical-align: top;\n",
       "    }\n",
       "\n",
       "    .dataframe thead th {\n",
       "        text-align: right;\n",
       "    }\n",
       "</style>\n",
       "<table border=\"1\" class=\"dataframe\">\n",
       "  <thead>\n",
       "    <tr style=\"text-align: right;\">\n",
       "      <th>readmitted_30_days</th>\n",
       "      <th>0</th>\n",
       "      <th>1</th>\n",
       "    </tr>\n",
       "    <tr>\n",
       "      <th>medication_type</th>\n",
       "      <th></th>\n",
       "      <th></th>\n",
       "    </tr>\n",
       "  </thead>\n",
       "  <tbody>\n",
       "    <tr>\n",
       "      <th>Type A</th>\n",
       "      <td>0.731343</td>\n",
       "      <td>0.268657</td>\n",
       "    </tr>\n",
       "    <tr>\n",
       "      <th>Type B</th>\n",
       "      <td>0.652174</td>\n",
       "      <td>0.347826</td>\n",
       "    </tr>\n",
       "    <tr>\n",
       "      <th>Type C</th>\n",
       "      <td>0.640625</td>\n",
       "      <td>0.359375</td>\n",
       "    </tr>\n",
       "  </tbody>\n",
       "</table>\n",
       "</div>"
      ],
      "text/plain": [
       "readmitted_30_days         0         1\n",
       "medication_type                       \n",
       "Type A              0.731343  0.268657\n",
       "Type B              0.652174  0.347826\n",
       "Type C              0.640625  0.359375"
      ]
     },
     "execution_count": 12,
     "metadata": {},
     "output_type": "execute_result"
    }
   ],
   "source": [
    "pd.crosstab(index=df.medication_type, columns=df.readmitted_30_days, normalize=\"index\")"
   ]
  },
  {
   "cell_type": "markdown",
   "id": "021fc0e4-902f-4789-a217-b9ef0d168108",
   "metadata": {},
   "source": [
    "Compared to Type B and C, patients treated with medication Type A seem to be readmitted less frequently. "
   ]
  },
  {
   "cell_type": "code",
   "execution_count": 13,
   "id": "fe6294c9-b653-4307-bfde-0f0914a27582",
   "metadata": {},
   "outputs": [
    {
     "data": {
      "image/png": "[encoded data removed]",
      "text/plain": [
       "<Figure size 800x600 with 2 Axes>"
      ]
     },
     "metadata": {},
     "output_type": "display_data"
    }
   ],
   "source": [
    "fig, axes = plt.subplots(1, 2, figsize=(8, 6), sharey=True)\n",
    "\n",
    "df[df[\"readmitted_30_days\"] == 0][\"length_of_stay\"].plot(kind=\"hist\", ax=axes[0], density=True, bins=np.arange(min(df[\"length_of_stay\"]), max(df[\"length_of_stay\"]) + 1), label=\"not readmitted\")\n",
    "axes[0].set_title(\"Distribution of length_of_stay\", fontsize=10)\n",
    "axes[0].set_ylabel(\"Ratio\", fontsize=10)\n",
    "axes[0].set_xlabel(\"length_of_stay\", fontsize=10)\n",
    "axes[0].legend()\n",
    "df[df[\"readmitted_30_days\"] == 1][\"length_of_stay\"].plot(kind=\"hist\", ax=axes[1], density=True, bins=np.arange(min(df[\"length_of_stay\"]), max(df[\"length_of_stay\"]) + 1), label=\"readmitted\")\n",
    "axes[1].set_title(\"Distribution of length_of_stay\", fontsize=10)\n",
    "axes[1].set_xlabel(\"length_of_stay\", fontsize=10)\n",
    "axes[1].legend()\n",
    "plt.show()"
   ]
  },
  {
   "cell_type": "markdown",
   "id": "1ffe6b5d-74f1-4c4c-8d98-6f2ca4f2f3eb",
   "metadata": {},
   "source": [
    "There does not seem to be major differences between the length of stay distributions for the readmitted and not readmitted patients."
   ]
  },
  {
   "cell_type": "markdown",
   "id": "6248f9da-1321-467c-8e0d-db752998356d",
   "metadata": {},
   "source": [
    "One thing to keep in mind is that, all the features are analysed individually above. There can be interactions between the features that affect the outcome (a patient being readmitted or not). Deep learning models are ideal for learning these interactions but the amount of data here is very low for training a complex model. "
   ]
  },
  {
   "cell_type": "markdown",
   "id": "a85aee8d-2c73-4af4-8ec7-e2be2ec37f34",
   "metadata": {},
   "source": [
    "## Preprocessing and Training"
   ]
  },
  {
   "cell_type": "code",
   "execution_count": 14,
   "id": "cce27506-b035-4f55-ab7b-556faeaf3963",
   "metadata": {},
   "outputs": [],
   "source": [
    "x_train = df.drop(columns=[\"patient_id\", \"readmitted_30_days\", \"discharge_note\"])\n",
    "y_train = df[\"readmitted_30_days\"]"
   ]
  },
  {
   "cell_type": "code",
   "execution_count": 15,
   "id": "d4fa7c62-5362-4f51-ae40-dbaf25a20523",
   "metadata": {},
   "outputs": [],
   "source": [
    "ct = ColumnTransformer(\n",
    "    transformers=[\n",
    "        (\"scaling\", StandardScaler(), [\"age\", \"num_previous_admissions\", \"length_of_stay\"]),\n",
    "        (\"one_hot_encoder\", OneHotEncoder(handle_unknown=\"ignore\"), [\"gender\", \"diagnosis_code\", \"medication_type\"]),\n",
    "    ]\n",
    ")\n",
    "\n",
    "kfold = StratifiedKFold(n_splits=10, shuffle=True, random_state=SEED)"
   ]
  },
  {
   "cell_type": "code",
   "execution_count": 16,
   "id": "f6c252f7-77d7-4d9a-bef7-69ed9bd1c672",
   "metadata": {},
   "outputs": [],
   "source": [
    "dummy_clf = DummyClassifier(strategy=\"stratified\")\n",
    "\n",
    "scores = cross_validate(dummy_clf, x_train, y_train, cv=kfold, scoring={'log_loss': 'neg_log_loss', 'AUC': 'roc_auc', 'AP': 'average_precision', 'f1': 'f1'})"
   ]
  },
  {
   "cell_type": "code",
   "execution_count": 17,
   "id": "bad8b091-8902-4d94-8895-6fbbc5ff8dcd",
   "metadata": {},
   "outputs": [
    {
     "name": "stdout",
     "output_type": "stream",
     "text": [
      "Validation log loss: 16.400\n",
      "Validation AUC: 0.456\n",
      "Validation AP: 0.330\n",
      "Validation F1-Score: 0.187\n"
     ]
    }
   ],
   "source": [
    "print(f\"Validation log loss: {-np.mean(scores['test_log_loss']):.3f}\")\n",
    "print(f\"Validation AUC: {np.mean(scores['test_AUC']):.3f}\")\n",
    "print(f\"Validation AP: {np.mean(scores['test_AP']):.3f}\")\n",
    "print(f\"Validation F1-Score: {np.mean(scores['test_f1']):.3f}\")"
   ]
  },
  {
   "cell_type": "code",
   "execution_count": 18,
   "id": "18ce4801-73fe-46cc-a11c-456c811f1498",
   "metadata": {},
   "outputs": [
    {
     "name": "stdout",
     "output_type": "stream",
     "text": [
      "Fitting 10 folds for each of 1000 candidates, totalling 10000 fits\n"
     ]
    }
   ],
   "source": [
    "lr = LogisticRegression(solver=\"lbfgs\", penalty=\"l2\", max_iter=10000)\n",
    "\n",
    "pipe_lr = Pipeline(steps=[(\"CT\", ct), (\"LR\", lr)])\n",
    "\n",
    "distributions = {\"LR__C\": loguniform(1e-5, 1e3)}\n",
    "\n",
    "lr_classifier = RandomizedSearchCV(\n",
    "    estimator=pipe_lr,\n",
    "    param_distributions=distributions,\n",
    "    n_iter=1000,\n",
    "    scoring=[\"neg_log_loss\", \"roc_auc\", \"average_precision\"],\n",
    "    return_train_score=True,\n",
    "    refit=\"average_precision\",\n",
    "    cv=kfold,\n",
    "    n_jobs=-1,\n",
    "    verbose=1,\n",
    "    random_state=SEED,\n",
    ")\n",
    "\n",
    "t1_start = perf_counter()\n",
    "lr_classifier.fit(x_train, y_train)\n",
    "t1_stop = perf_counter()"
   ]
  },
  {
   "cell_type": "code",
   "execution_count": 19,
   "id": "b3655d15-7659-4328-a2d2-9026bbb6c8ed",
   "metadata": {},
   "outputs": [
    {
     "name": "stdout",
     "output_type": "stream",
     "text": [
      "Time needed for training: 0.34 minutes\n",
      "Parameters that maximizes the AP for the validation data:\n",
      "{'LR__C': 0.00014929564057609773}\n",
      "\n",
      "AP for the training data: 0.440\n",
      "AP for the validation data: 0.444\n",
      "Log Loss on training data: 0.630\n",
      "Log Loss on validation data: 0.631\n",
      "AUC on training data: 0.616\n",
      "AUC on validation data: 0.550\n"
     ]
    }
   ],
   "source": [
    "print(f\"Time needed for training: {(t1_stop - t1_start)/60:.2f} minutes\")\n",
    "print(f\"Parameters that maximizes the AP for the validation data:\\n{lr_classifier.best_params_}\\n\")\n",
    "index = lr_classifier.cv_results_[\"mean_test_average_precision\"].argmax()\n",
    "print(f\"AP for the training data: {lr_classifier.cv_results_['mean_train_average_precision'][index]:.3f}\")\n",
    "print(f\"AP for the validation data: {lr_classifier.best_score_:.3f}\")\n",
    "print(f\"Log Loss on training data: {-lr_classifier.cv_results_['mean_train_neg_log_loss'][index]:.3f}\")\n",
    "print(f\"Log Loss on validation data: {-lr_classifier.cv_results_['mean_test_neg_log_loss'][index]:.3f}\")\n",
    "print(f\"AUC on training data: {lr_classifier.cv_results_['mean_train_roc_auc'][index]:.3f}\")\n",
    "print(f\"AUC on validation data: {lr_classifier.cv_results_['mean_test_roc_auc'][index]:.3f}\")"
   ]
  },
  {
   "cell_type": "code",
   "execution_count": 20,
   "id": "efa085fa-2c58-4e5a-b6da-93619db3e8bf",
   "metadata": {},
   "outputs": [
    {
     "data": {
      "image/png": "[encoded data removed]",
      "text/plain": [
       "<Figure size 640x480 with 1 Axes>"
      ]
     },
     "metadata": {},
     "output_type": "display_data"
    }
   ],
   "source": [
    "LearningCurveDisplay.from_estimator(lr_classifier.best_estimator_, x_train, y_train, \n",
    "    cv= kfold,\n",
    "    n_jobs= -1,\n",
    "    line_kw= {\"marker\": \"o\"},\n",
    "    scoring= \"average_precision\",\n",
    "    score_name = \"average_precision\",\n",
    "    negate_score=False)\n",
    "plt.show()"
   ]
  },
  {
   "cell_type": "code",
   "execution_count": 21,
   "id": "efdbebc9-f8bd-4fe3-9a82-47b0ed996846",
   "metadata": {},
   "outputs": [
    {
     "name": "stdout",
     "output_type": "stream",
     "text": [
      "Cut-off point found at 0.322\n"
     ]
    }
   ],
   "source": [
    "classifier_tuned = TunedThresholdClassifierCV(lr_classifier.best_estimator_, scoring=\"balanced_accuracy\", cv=kfold).fit(x_train, y_train)\n",
    "print(f\"Cut-off point found at {classifier_tuned.best_threshold_:.3f}\")"
   ]
  },
  {
   "cell_type": "code",
   "execution_count": 22,
   "id": "51c67916-6657-4bbf-ae82-3a3501b95428",
   "metadata": {},
   "outputs": [],
   "source": [
    "scores = cross_validate(classifier_tuned, x_train, y_train, cv=kfold, scoring={'F1-score': 'f1'})"
   ]
  },
  {
   "cell_type": "code",
   "execution_count": 23,
   "id": "3617c9a1-32fa-4870-9b4d-f061269c640e",
   "metadata": {},
   "outputs": [
    {
     "name": "stdout",
     "output_type": "stream",
     "text": [
      "Validation F1: 0.390\n"
     ]
    }
   ],
   "source": [
    "print(f\"Validation F1: {np.mean(scores['test_F1-score']):.3f}\")"
   ]
  },
  {
   "cell_type": "code",
   "execution_count": 24,
   "id": "3d5e0f16-9d15-45dd-85a4-61d2d5cb9c8e",
   "metadata": {},
   "outputs": [
    {
     "data": {
      "image/png": "[encoded data removed]",
      "text/plain": [
       "<Figure size 600x600 with 2 Axes>"
      ]
     },
     "metadata": {},
     "output_type": "display_data"
    }
   ],
   "source": [
    "y_pred = cross_val_predict(classifier_tuned, x_train, y_train, cv=kfold)\n",
    "\n",
    "fig, ax = plt.subplots(figsize=(6, 6))\n",
    "ConfusionMatrixDisplay.from_predictions(y_train, y_pred, labels=[0, 1], display_labels=[\"Not Readmitted\",\"Readmitted\"], ax=ax)\n",
    "ax.grid(False)"
   ]
  },
  {
   "cell_type": "code",
   "execution_count": 25,
   "id": "04eae80a-b663-48ee-8755-2102b584ef9f",
   "metadata": {},
   "outputs": [
    {
     "data": {
      "text/plain": [
       "0.49056603773584906"
      ]
     },
     "execution_count": 25,
     "metadata": {},
     "output_type": "execute_result"
    }
   ],
   "source": [
    "f1_score(y_train, np.ones(len(y_train)))"
   ]
  },
  {
   "cell_type": "code",
   "execution_count": 26,
   "id": "0df575c4-b03c-47a3-a6a2-7bb15c66303a",
   "metadata": {},
   "outputs": [],
   "source": [
    "x_train, x_val, y_train, y_val = train_test_split(x_train, y_train, test_size=0.1, stratify=y_train, random_state=SEED)\n",
    "\n",
    "classifier_tuned.fit(x_train, y_train)\n",
    "\n",
    "scoring = [\"average_precision\"]\n",
    "\n",
    "r = permutation_importance(classifier_tuned, x_val, y_val, n_repeats=30, random_state=SEED, scoring=scoring, n_jobs=-1)"
   ]
  },
  {
   "cell_type": "code",
   "execution_count": 27,
   "id": "f93f200e-b24f-40fd-b853-48fffa0c9c07",
   "metadata": {},
   "outputs": [
    {
     "name": "stdout",
     "output_type": "stream",
     "text": [
      "average_precision\n",
      "-----------------------\n",
      "age                      0.08380 +/- 0.04578\n",
      "length_of_stay           0.06336 +/- 0.05368\n",
      "medication_type          0.01709 +/- 0.02856\n",
      "diagnosis_code           0.01497 +/- 0.02573\n",
      "gender                   -0.00532 +/- 0.03246\n",
      "num_previous_admissions  -0.03672 +/- 0.10920\n",
      "\n"
     ]
    }
   ],
   "source": [
    "for metric in r:\n",
    "    print(f\"{metric}\")\n",
    "    print(\"-\"*23)\n",
    "    for i in r[metric].importances_mean.argsort()[::-1]:\n",
    "        print(f\"{x_val.columns[i]:<25}\"\n",
    "        f\"{r[metric].importances_mean[i]:.5f}\"\n",
    "        f\" +/- {r[metric].importances_std[i]:.5f}\")\n",
    "    print()"
   ]
  },
  {
   "cell_type": "code",
   "execution_count": 28,
   "id": "45ea154e-a02a-45bf-adba-b5aef25ea9e7",
   "metadata": {},
   "outputs": [
    {
     "data": {
      "image/png": "[encoded data removed]",
      "text/plain": [
       "<Figure size 800x600 with 1 Axes>"
      ]
     },
     "metadata": {},
     "output_type": "display_data"
    }
   ],
   "source": [
    "fig, ax = plt.subplots(figsize=(8, 6))\n",
    "sorted_importances_idx = r[\"average_precision\"].importances_mean.argsort()\n",
    "importances = pd.DataFrame(\n",
    "    r[\"average_precision\"].importances[sorted_importances_idx].T,\n",
    "    columns=x_val.columns[sorted_importances_idx],\n",
    ")\n",
    "\n",
    "importances.plot.box(vert=False, whis=10, ax=ax)\n",
    "ax.set_title(\"Permutation Importances (validation set)\")\n",
    "ax.axvline(x=0, color=\"k\", linestyle=\"--\")\n",
    "ax.set_xlabel(\"Decrease in average precision score\")\n",
    "ax.set_ylabel(\"Features\")\n",
    "ax.figure.tight_layout()"
   ]
  },
  {
   "cell_type": "markdown",
   "id": "93e47092-8c40-40dc-a9e8-72ac607553cc",
   "metadata": {},
   "source": [
    "# Named Entity Recognition from Discharge Notes (LLM/NLP)"
   ]
  },
  {
   "cell_type": "code",
   "execution_count": 29,
   "id": "004a584d-8e43-4a3a-89f5-d6230903314f",
   "metadata": {},
   "outputs": [],
   "source": [
    "import stanza"
   ]
  },
  {
   "cell_type": "code",
   "execution_count": 30,
   "id": "416dacc3-f88d-4682-afd8-c78208c203c2",
   "metadata": {},
   "outputs": [
    {
     "data": {
      "application/vnd.jupyter.widget-view+json": {
       "model_id": "ca9afc3b49d44aa1926e118aee8d8f49",
       "version_major": 2,
       "version_minor": 0
      },
      "text/plain": [
       "Downloading https://raw.githubusercontent.com/stanfordnlp/stanza-resources/main/resources_1.10.0.json:   0%|  …"
      ]
     },
     "metadata": {},
     "output_type": "display_data"
    },
    {
     "name": "stderr",
     "output_type": "stream",
     "text": [
      "2025-06-15 15:14:37 INFO: Downloaded file to /Users/coskudeniz/stanza_resources/resources.json\n",
      "2025-06-15 15:14:37 INFO: Downloading these customized packages for language: en (English)...\n",
      "====================================\n",
      "| Processor       | Package        |\n",
      "------------------------------------\n",
      "| tokenize        | mimic          |\n",
      "| pos             | mimic_charlm   |\n",
      "| lemma           | mimic_nocharlm |\n",
      "| depparse        | mimic_charlm   |\n",
      "| ner             | i2b2           |\n",
      "| forward_charlm  | mimic          |\n",
      "| pretrain        | mimic          |\n",
      "| backward_charlm | mimic          |\n",
      "====================================\n",
      "\n",
      "2025-06-15 15:14:37 INFO: File exists: /Users/coskudeniz/stanza_resources/en/tokenize/mimic.pt\n",
      "2025-06-15 15:14:37 INFO: File exists: /Users/coskudeniz/stanza_resources/en/pos/mimic_charlm.pt\n",
      "2025-06-15 15:14:37 INFO: File exists: /Users/coskudeniz/stanza_resources/en/lemma/mimic_nocharlm.pt\n",
      "2025-06-15 15:14:38 INFO: File exists: /Users/coskudeniz/stanza_resources/en/depparse/mimic_charlm.pt\n",
      "2025-06-15 15:14:38 INFO: File exists: /Users/coskudeniz/stanza_resources/en/ner/i2b2.pt\n",
      "2025-06-15 15:14:38 INFO: File exists: /Users/coskudeniz/stanza_resources/en/forward_charlm/mimic.pt\n",
      "2025-06-15 15:14:38 INFO: File exists: /Users/coskudeniz/stanza_resources/en/pretrain/mimic.pt\n",
      "2025-06-15 15:14:38 INFO: File exists: /Users/coskudeniz/stanza_resources/en/backward_charlm/mimic.pt\n",
      "2025-06-15 15:14:38 INFO: Finished downloading models and saved to /Users/coskudeniz/stanza_resources\n",
      "2025-06-15 15:14:38 INFO: Checking for updates to resources.json in case models have been updated.  Note: this behavior can be turned off with download_method=None or download_method=DownloadMethod.REUSE_RESOURCES\n"
     ]
    },
    {
     "data": {
      "application/vnd.jupyter.widget-view+json": {
       "model_id": "f8d84997fc7546648082e512a59f3834",
       "version_major": 2,
       "version_minor": 0
      },
      "text/plain": [
       "Downloading https://raw.githubusercontent.com/stanfordnlp/stanza-resources/main/resources_1.10.0.json:   0%|  …"
      ]
     },
     "metadata": {},
     "output_type": "display_data"
    },
    {
     "name": "stderr",
     "output_type": "stream",
     "text": [
      "2025-06-15 15:14:38 INFO: Downloaded file to /Users/coskudeniz/stanza_resources/resources.json\n",
      "2025-06-15 15:14:39 INFO: Loading these models for language: en (English):\n",
      "==============================\n",
      "| Processor | Package        |\n",
      "------------------------------\n",
      "| tokenize  | mimic          |\n",
      "| pos       | mimic_charlm   |\n",
      "| lemma     | mimic_nocharlm |\n",
      "| depparse  | mimic_charlm   |\n",
      "| ner       | i2b2           |\n",
      "==============================\n",
      "\n",
      "2025-06-15 15:14:39 INFO: Using device: cpu\n",
      "2025-06-15 15:14:39 INFO: Loading: tokenize\n",
      "2025-06-15 15:14:41 INFO: Loading: pos\n",
      "2025-06-15 15:14:42 INFO: Loading: lemma\n",
      "2025-06-15 15:14:42 INFO: Loading: depparse\n",
      "2025-06-15 15:14:42 INFO: Loading: ner\n",
      "2025-06-15 15:14:43 INFO: Done loading processors!\n"
     ]
    }
   ],
   "source": [
    "stanza.download('en', package='mimic', processors={'ner': 'i2b2'})\n",
    "nlp = stanza.Pipeline('en', package='mimic', processors={'ner': 'i2b2'})"
   ]
  },
  {
   "cell_type": "code",
   "execution_count": 31,
   "id": "39a0338b-2e29-474f-abad-a8ad4fc78264",
   "metadata": {},
   "outputs": [],
   "source": [
    "results = []\n",
    "\n",
    "for text in df.discharge_note:\n",
    "    doc = nlp(text)\n",
    "    # print out all entities\n",
    "    entities = []\n",
    "    for ent in doc.entities:\n",
    "        entities.append((ent.text,ent.type))\n",
    "    results.append(entities)"
   ]
  },
  {
   "cell_type": "code",
   "execution_count": 32,
   "id": "9799a647-c73b-4830-a621-b0063af118dd",
   "metadata": {},
   "outputs": [],
   "source": [
    "df[\"clinical_entities\"] = results"
   ]
  },
  {
   "cell_type": "code",
   "execution_count": 33,
   "id": "f39213f4-bee1-4fc6-8dba-6ca071607af6",
   "metadata": {},
   "outputs": [
    {
     "data": {
      "text/html": [
       "<div>\n",
       "<style scoped>\n",
       "    .dataframe tbody tr th:only-of-type {\n",
       "        vertical-align: middle;\n",
       "    }\n",
       "\n",
       "    .dataframe tbody tr th {\n",
       "        vertical-align: top;\n",
       "    }\n",
       "\n",
       "    .dataframe thead th {\n",
       "        text-align: right;\n",
       "    }\n",
       "</style>\n",
       "<table border=\"1\" class=\"dataframe\">\n",
       "  <thead>\n",
       "    <tr style=\"text-align: right;\">\n",
       "      <th></th>\n",
       "      <th>patient_id</th>\n",
       "      <th>age</th>\n",
       "      <th>gender</th>\n",
       "      <th>diagnosis_code</th>\n",
       "      <th>num_previous_admissions</th>\n",
       "      <th>medication_type</th>\n",
       "      <th>length_of_stay</th>\n",
       "      <th>readmitted_30_days</th>\n",
       "      <th>discharge_note</th>\n",
       "      <th>clinical_entities</th>\n",
       "    </tr>\n",
       "  </thead>\n",
       "  <tbody>\n",
       "    <tr>\n",
       "      <th>0</th>\n",
       "      <td>1</td>\n",
       "      <td>71</td>\n",
       "      <td>Male</td>\n",
       "      <td>D002</td>\n",
       "      <td>3</td>\n",
       "      <td>Type C</td>\n",
       "      <td>2</td>\n",
       "      <td>0</td>\n",
       "      <td>Good recovery trajectory. Follow-up scan sched...</td>\n",
       "      <td>[(Follow-up scan, TEST)]</td>\n",
       "    </tr>\n",
       "    <tr>\n",
       "      <th>1</th>\n",
       "      <td>2</td>\n",
       "      <td>34</td>\n",
       "      <td>Female</td>\n",
       "      <td>D002</td>\n",
       "      <td>1</td>\n",
       "      <td>Type B</td>\n",
       "      <td>3</td>\n",
       "      <td>1</td>\n",
       "      <td>Stable post-surgery. Advised to avoid physical...</td>\n",
       "      <td>[]</td>\n",
       "    </tr>\n",
       "    <tr>\n",
       "      <th>2</th>\n",
       "      <td>3</td>\n",
       "      <td>80</td>\n",
       "      <td>Male</td>\n",
       "      <td>D002</td>\n",
       "      <td>2</td>\n",
       "      <td>Type C</td>\n",
       "      <td>5</td>\n",
       "      <td>1</td>\n",
       "      <td>Symptoms controlled. Monitoring for relapse ad...</td>\n",
       "      <td>[(Symptoms, PROBLEM), (relapse, PROBLEM)]</td>\n",
       "    </tr>\n",
       "    <tr>\n",
       "      <th>3</th>\n",
       "      <td>4</td>\n",
       "      <td>40</td>\n",
       "      <td>Female</td>\n",
       "      <td>D002</td>\n",
       "      <td>2</td>\n",
       "      <td>Type C</td>\n",
       "      <td>11</td>\n",
       "      <td>0</td>\n",
       "      <td>Stable post-surgery. Advised to avoid physical...</td>\n",
       "      <td>[]</td>\n",
       "    </tr>\n",
       "    <tr>\n",
       "      <th>4</th>\n",
       "      <td>5</td>\n",
       "      <td>43</td>\n",
       "      <td>Female</td>\n",
       "      <td>D001</td>\n",
       "      <td>1</td>\n",
       "      <td>Type C</td>\n",
       "      <td>8</td>\n",
       "      <td>1</td>\n",
       "      <td>Stable post-surgery. Advised to avoid physical...</td>\n",
       "      <td>[]</td>\n",
       "    </tr>\n",
       "    <tr>\n",
       "      <th>5</th>\n",
       "      <td>6</td>\n",
       "      <td>22</td>\n",
       "      <td>Female</td>\n",
       "      <td>D004</td>\n",
       "      <td>1</td>\n",
       "      <td>Type A</td>\n",
       "      <td>10</td>\n",
       "      <td>1</td>\n",
       "      <td>Good recovery trajectory. Follow-up scan sched...</td>\n",
       "      <td>[(Follow-up scan, TEST)]</td>\n",
       "    </tr>\n",
       "    <tr>\n",
       "      <th>6</th>\n",
       "      <td>7</td>\n",
       "      <td>41</td>\n",
       "      <td>Male</td>\n",
       "      <td>D002</td>\n",
       "      <td>1</td>\n",
       "      <td>Type A</td>\n",
       "      <td>7</td>\n",
       "      <td>1</td>\n",
       "      <td>Discharge after recovery from pneumonia. No co...</td>\n",
       "      <td>[(pneumonia, PROBLEM), (complications, PROBLEM)]</td>\n",
       "    </tr>\n",
       "    <tr>\n",
       "      <th>7</th>\n",
       "      <td>8</td>\n",
       "      <td>72</td>\n",
       "      <td>Male</td>\n",
       "      <td>D002</td>\n",
       "      <td>0</td>\n",
       "      <td>Type B</td>\n",
       "      <td>7</td>\n",
       "      <td>1</td>\n",
       "      <td>Patient discharged in stable condition. Recomm...</td>\n",
       "      <td>[]</td>\n",
       "    </tr>\n",
       "    <tr>\n",
       "      <th>8</th>\n",
       "      <td>9</td>\n",
       "      <td>21</td>\n",
       "      <td>Female</td>\n",
       "      <td>D003</td>\n",
       "      <td>4</td>\n",
       "      <td>Type B</td>\n",
       "      <td>12</td>\n",
       "      <td>0</td>\n",
       "      <td>Patient showed improvement. Prescribed antibio...</td>\n",
       "      <td>[(antibiotics, TREATMENT)]</td>\n",
       "    </tr>\n",
       "    <tr>\n",
       "      <th>9</th>\n",
       "      <td>10</td>\n",
       "      <td>49</td>\n",
       "      <td>Male</td>\n",
       "      <td>D002</td>\n",
       "      <td>2</td>\n",
       "      <td>Type A</td>\n",
       "      <td>7</td>\n",
       "      <td>0</td>\n",
       "      <td>Blood pressure under control. Continue current...</td>\n",
       "      <td>[(Blood pressure, TEST), (current medication, ...</td>\n",
       "    </tr>\n",
       "  </tbody>\n",
       "</table>\n",
       "</div>"
      ],
      "text/plain": [
       "   patient_id  age  gender diagnosis_code  num_previous_admissions  \\\n",
       "0           1   71    Male           D002                        3   \n",
       "1           2   34  Female           D002                        1   \n",
       "2           3   80    Male           D002                        2   \n",
       "3           4   40  Female           D002                        2   \n",
       "4           5   43  Female           D001                        1   \n",
       "5           6   22  Female           D004                        1   \n",
       "6           7   41    Male           D002                        1   \n",
       "7           8   72    Male           D002                        0   \n",
       "8           9   21  Female           D003                        4   \n",
       "9          10   49    Male           D002                        2   \n",
       "\n",
       "  medication_type  length_of_stay  readmitted_30_days  \\\n",
       "0          Type C               2                   0   \n",
       "1          Type B               3                   1   \n",
       "2          Type C               5                   1   \n",
       "3          Type C              11                   0   \n",
       "4          Type C               8                   1   \n",
       "5          Type A              10                   1   \n",
       "6          Type A               7                   1   \n",
       "7          Type B               7                   1   \n",
       "8          Type B              12                   0   \n",
       "9          Type A               7                   0   \n",
       "\n",
       "                                      discharge_note  \\\n",
       "0  Good recovery trajectory. Follow-up scan sched...   \n",
       "1  Stable post-surgery. Advised to avoid physical...   \n",
       "2  Symptoms controlled. Monitoring for relapse ad...   \n",
       "3  Stable post-surgery. Advised to avoid physical...   \n",
       "4  Stable post-surgery. Advised to avoid physical...   \n",
       "5  Good recovery trajectory. Follow-up scan sched...   \n",
       "6  Discharge after recovery from pneumonia. No co...   \n",
       "7  Patient discharged in stable condition. Recomm...   \n",
       "8  Patient showed improvement. Prescribed antibio...   \n",
       "9  Blood pressure under control. Continue current...   \n",
       "\n",
       "                                   clinical_entities  \n",
       "0                           [(Follow-up scan, TEST)]  \n",
       "1                                                 []  \n",
       "2          [(Symptoms, PROBLEM), (relapse, PROBLEM)]  \n",
       "3                                                 []  \n",
       "4                                                 []  \n",
       "5                           [(Follow-up scan, TEST)]  \n",
       "6   [(pneumonia, PROBLEM), (complications, PROBLEM)]  \n",
       "7                                                 []  \n",
       "8                         [(antibiotics, TREATMENT)]  \n",
       "9  [(Blood pressure, TEST), (current medication, ...  "
      ]
     },
     "execution_count": 33,
     "metadata": {},
     "output_type": "execute_result"
    }
   ],
   "source": [
    "df.head(10)"
   ]
  },
  {
   "cell_type": "code",
   "execution_count": 34,
   "id": "67e5b008-33f5-417b-a217-8877e80aab1b",
   "metadata": {},
   "outputs": [
    {
     "data": {
      "text/plain": [
       "{'PROBLEM', 'TEST', 'TREATMENT'}"
      ]
     },
     "execution_count": 34,
     "metadata": {},
     "output_type": "execute_result"
    }
   ],
   "source": [
    "set([ent[1] for entities in results for ent in entities])"
   ]
  }
 ],
 "metadata": {
  "kernelspec": {
   "display_name": "Python 3 (ipykernel)",
   "language": "python",
   "name": "python3"
  },
  "language_info": {
   "codemirror_mode": {
    "name": "ipython",
    "version": 3
   },
   "file_extension": ".py",
   "mimetype": "text/x-python",
   "name": "python",
   "nbconvert_exporter": "python",
   "pygments_lexer": "ipython3",
   "version": "3.12.1"
  }
 },
 "nbformat": 4,
 "nbformat_minor": 5
}
